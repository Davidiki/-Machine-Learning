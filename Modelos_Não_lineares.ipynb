{
  "nbformat": 4,
  "nbformat_minor": 0,
  "metadata": {
    "colab": {
      "provenance": []
    },
    "kernelspec": {
      "name": "python3",
      "display_name": "Python 3"
    },
    "language_info": {
      "name": "python"
    }
  },
  "cells": [
    {
      "cell_type": "markdown",
      "source": [
        "#**Modelos Não-Lineares**\n",
        "Os modelos não-lineares são uma classe de algoritmos de aprendizado de máquina que conseguem capturar relações complexas e não-lineares entre as variáveis independentes (features) e a variável dependente (target). Diferentemente dos modelos lineares, que assumem uma relação linear entre as variáveis, os modelos não-lineares utilizam técnicas avançadas para modelar interações e padrões mais intricados nos dados.\n",
        "\n",
        "**Características dos Modelos Não-Lineares**\n",
        "- **Capacidade de Capturar Relações Complexas:** Podem modelar interações e dependências não-lineares entre as variáveis.\n",
        "- **Flexibilidade:** Adequados para uma ampla variedade de problemas e tipos de dados.\n",
        "- **Alta Performance:** Frequentemente alcançam melhores resultados em tarefas complexas comparados aos modelos lineares.\n",
        "- **Escalabilidade:** Alguns modelos não-lineares, especialmente redes neurais profundas, podem escalar bem com grandes conjuntos de dados.\n",
        "Limitações\n",
        "- **Complexidade Computacional:** Podem exigir maior poder de processamento e memória.\n",
        "- **Interpretação Difícil:** Modelos como redes neurais são frequentemente considerados \"caixas-pretas\", dificultando a interpretação das decisões.\n",
        "- **Risco de Overfitting:** A alta flexibilidade pode levar ao ajuste excessivo aos dados de treinamento, prejudicando a generalização.\n",
        "- **Necessidade de Hiperparâmetros:** Muitos modelos não-lineares possuem múltiplos hiperparâmetros que precisam ser cuidadosamente ajustados para otimizar o desempenho."
      ],
      "metadata": {
        "id": "73LZmb9g6jbn"
      }
    },
    {
      "cell_type": "code",
      "source": [
        "# Importando bibliotecas necessárias\n",
        "import numpy as np\n",
        "import pandas as pd\n",
        "from sklearn.datasets import load_breast_cancer\n",
        "from sklearn.model_selection import train_test_split\n",
        "from sklearn.metrics import accuracy_score, classification_report\n",
        "\n",
        "# Importando modelos não-lineares do scikit-learn\n",
        "from sklearn.svm import SVC, SVR\n",
        "from sklearn.neighbors import KNeighborsClassifier, KNeighborsRegressor\n",
        "from sklearn.neural_network import MLPClassifier\n",
        "from sklearn.preprocessing import StandardScaler\n",
        "\n",
        "# Importando bibliotecas para Redes Neurais\n",
        "import tensorflow as tf\n",
        "from tensorflow.keras.models import Sequential\n",
        "from tensorflow.keras.layers import Dense, LSTM, Conv1D, Flatten, SimpleRNN\n",
        "from tensorflow.keras.utils import to_categorical\n",
        "\n",
        "# Carregando o dataset breast_cancer\n",
        "data = load_breast_cancer()\n",
        "X = pd.DataFrame(data.data, columns=data.feature_names)\n",
        "y = pd.Series(data.target)\n",
        "\n",
        "# Dividindo o dataset em treino e teste\n",
        "X_train, X_test, y_train, y_test = train_test_split(X, y, test_size=0.3, random_state=42)\n",
        "\n",
        "# Normalizando os dados para modelos que requerem\n",
        "scaler = StandardScaler()\n",
        "X_train_scaled = scaler.fit_transform(X_train)\n",
        "X_test_scaled = scaler.transform(X_test)\n",
        "\n",
        "# Função para treinar, prever e avaliar modelos de scikit-learn\n",
        "def train_evaluate_sklearn_model(model, model_name, X_train, X_test, y_train, y_test):\n",
        "    model.fit(X_train, y_train)\n",
        "    y_pred = model.predict(X_test)\n",
        "    print(f\"### {model_name}\")\n",
        "    print(\"Acurácia:\", accuracy_score(y_test, y_pred))\n",
        "    print(classification_report(y_test, y_pred))\n",
        "\n"
      ],
      "metadata": {
        "id": "YsqXIOA_6zZu"
      },
      "execution_count": 1,
      "outputs": []
    },
    {
      "cell_type": "markdown",
      "source": [
        "##**Support Vector Classifier (SVC)**\n",
        "**Funcionamento**\n",
        "O Support Vector Classifier (SVC) é uma implementação do algoritmo de Máquinas de Vetores de Suporte para tarefas de classificação. O SVC busca encontrar o hiperplano que melhor separa as classes no espaço de características, maximizando a margem entre as classes. Com o uso de kernels, o SVC pode transformar os dados para torná-los separáveis linearmente em um espaço de alta dimensão.\n",
        "\n",
        "**Pontos Fortes**\n",
        "- Eficiente em Espaços de Alta Dimensão: Funciona bem mesmo com um grande número de features.\n",
        "- Flexível com Kernels: Através de diferentes funções de kernel (linear, polinomial, RBF, etc.), pode modelar relações não-lineares complexas.\n",
        "- Robustez a Overfitting: Particularmente eficaz em situações onde há uma clara separação entre as classes.\n",
        "\n",
        "**Pontos Fracos**\n",
        "- Complexidade Computacional: Pode ser lento em grandes conjuntos de dados.\n",
        "- Escolha do Kernel: A performance depende fortemente da escolha e parametrização do kernel.\n",
        "- Sensível a Escalas de Dados: Requer pré-processamento adequado, como normalização ou padronização das features."
      ],
      "metadata": {
        "id": "YbvgMp4O6zk3"
      }
    },
    {
      "cell_type": "code",
      "execution_count": 2,
      "metadata": {
        "colab": {
          "base_uri": "https://localhost:8080/"
        },
        "id": "CA-bcbSR6gm1",
        "outputId": "145ace09-a866-493c-f6fb-d3a1260181b0"
      },
      "outputs": [
        {
          "output_type": "stream",
          "name": "stdout",
          "text": [
            "### Support Vector Classifier (SVC)\n",
            "Acurácia: 0.9766081871345029\n",
            "              precision    recall  f1-score   support\n",
            "\n",
            "           0       0.97      0.97      0.97        63\n",
            "           1       0.98      0.98      0.98       108\n",
            "\n",
            "    accuracy                           0.98       171\n",
            "   macro avg       0.97      0.97      0.97       171\n",
            "weighted avg       0.98      0.98      0.98       171\n",
            "\n"
          ]
        }
      ],
      "source": [
        "# 1. Support Vector Classifier (SVC)\n",
        "svc = SVC(kernel='rbf', C=1, gamma='scale', random_state=42)\n",
        "train_evaluate_sklearn_model(svc, \"Support Vector Classifier (SVC)\", X_train_scaled, X_test_scaled, y_train, y_test)\n"
      ]
    },
    {
      "cell_type": "markdown",
      "source": [
        "##**Support Vector Regression (SVR)**\n",
        "**Funcionamento**\n",
        "O Support Vector Regression (SVR) é a versão de regressão das Máquinas de Vetores de Suporte. O SVR tenta prever valores contínuos, encontrando uma função que mapeia as entradas para as saídas com a menor margem de erro possível. Assim como o SVC, o SVR pode utilizar kernels para capturar relações não-lineares.\n",
        "\n",
        "**Pontos Fortes**\n",
        "- Capacidade de Modelar Relações Complexas: Com o uso de kernels, pode capturar padrões não-lineares nos dados.\n",
        "- Robustez a Outliers: Minimiza a influência de outliers através da utilização de margens de tolerância.\n",
        "- Flexibilidade com Hiperparâmetros: Possui parâmetros que permitem ajustar a complexidade do modelo e a tolerância ao erro.\n",
        "\n",
        "**Pontos Fracos**\n",
        "- Computacionalmente Intensivo: Pode ser lento para conjuntos de dados grandes.\n",
        "- Escolha do Kernel e Hiperparâmetros: Requer uma cuidadosa seleção e ajuste para obter o melhor desempenho.\n",
        "Escalabilidade Limitada: Menos adequado para grandes volumes de dados comparado a outros modelos de regressão."
      ],
      "metadata": {
        "id": "On8TIWcJ7C5u"
      }
    },
    {
      "cell_type": "code",
      "source": [
        "# 4. Support Vector Regression (SVR) - Aplicado para Ilustração (Regressão)\n",
        "# Como o dataset é de classificação, transformaremos o target para uma tarefa de regressão\n",
        "svr = SVR(kernel='rbf', C=1, gamma='scale')\n",
        "svr.fit(X_train_scaled, y_train)\n",
        "y_pred_svr = svr.predict(X_test_scaled)\n",
        "# Avaliação usando R²\n",
        "from sklearn.metrics import r2_score\n",
        "print(\"### Support Vector Regression (SVR)\")\n",
        "print(\"R² Score:\", r2_score(y_test, y_pred_svr))\n"
      ],
      "metadata": {
        "colab": {
          "base_uri": "https://localhost:8080/"
        },
        "id": "oGkB2i3h7zcP",
        "outputId": "1ea45a30-9300-47ab-feb0-ca00c2273b02"
      },
      "execution_count": 3,
      "outputs": [
        {
          "output_type": "stream",
          "name": "stdout",
          "text": [
            "### Support Vector Regression (SVR)\n",
            "R² Score: 0.8468029272190664\n"
          ]
        }
      ]
    },
    {
      "cell_type": "markdown",
      "source": [
        "##**K-Nearest Neighbors (KNN)**\n",
        "**Funcionamento**\n",
        "O K-Nearest Neighbors (KNN) é um algoritmo de aprendizado de máquina baseado em instâncias, utilizado para tarefas de classificação e regressão. Para prever a classe ou valor de uma nova amostra, o KNN considera as k amostras mais próximas no conjunto de treinamento e realiza uma votação (para classificação) ou média (para regressão).\n",
        "\n",
        "**Pontos Fortes**\n",
        "- Simplicidade e Facilidade de Implementação: Fácil de entender e implementar.\n",
        "- Flexibilidade: Pode ser usado para tarefas de classificação e regressão.\n",
        "- Não Paramétrico: Não faz suposições sobre a distribuição dos dados.\n",
        "\n",
        "**Pontos Fracos**\n",
        "- Custo Computacional em Predição: Pode ser lento para grandes conjuntos de dados durante a fase de predição.\n",
        "- Sensível à Escolha de k e Métrica de Distância: A performance depende fortemente do valor de k e da métrica de distância utilizada.\n",
        "- Desempenho com Dados Irregulares ou de Alta Dimensão: Pode sofrer com a maldição da dimensionalidade e dados não balanceados."
      ],
      "metadata": {
        "id": "L-r_KEFG7Wce"
      }
    },
    {
      "cell_type": "code",
      "source": [
        "# 2. K-Nearest Neighbors (KNN)\n",
        "knn = KNeighborsClassifier(n_neighbors=5)\n",
        "train_evaluate_sklearn_model(knn, \"K-Nearest Neighbors (KNN)\", X_train, X_test, y_train, y_test)\n"
      ],
      "metadata": {
        "colab": {
          "base_uri": "https://localhost:8080/"
        },
        "id": "VHiPT_ox78Co",
        "outputId": "fb954ab0-d62f-40a7-bfd9-50428b0cf8da"
      },
      "execution_count": 4,
      "outputs": [
        {
          "output_type": "stream",
          "name": "stdout",
          "text": [
            "### K-Nearest Neighbors (KNN)\n",
            "Acurácia: 0.9590643274853801\n",
            "              precision    recall  f1-score   support\n",
            "\n",
            "           0       0.98      0.90      0.94        63\n",
            "           1       0.95      0.99      0.97       108\n",
            "\n",
            "    accuracy                           0.96       171\n",
            "   macro avg       0.96      0.95      0.96       171\n",
            "weighted avg       0.96      0.96      0.96       171\n",
            "\n"
          ]
        }
      ]
    },
    {
      "cell_type": "markdown",
      "source": [
        " ##**Artificial Neural Networks (ANN)**\n",
        "**Funcionamento**\n",
        "As Artificial Neural Networks (ANN) são modelos inspirados no funcionamento do cérebro humano, compostos por camadas de neurônios artificiais interconectados. Cada neurônio realiza uma combinação linear das entradas e aplica uma função de ativação não-linear. As ANNs são treinadas ajustando os pesos das conexões para minimizar a função de perda através de técnicas como o backpropagation.\n",
        "\n",
        "**Pontos Fortes**\n",
        "- Capacidade de Capturar Relações Complexas e Não-Lineares: Adequadas para uma vasta gama de problemas, desde classificação até geração de dados.\n",
        "- Flexibilidade: Pode ser adaptada para diferentes tipos de dados e arquiteturas, como redes profundas.\n",
        "- Escalabilidade com Dados e Computação: Melhoram o desempenho com o aumento da quantidade de dados e poder computacional.\n",
        "\n",
        "**Pontos Fracos**\n",
        "- Requerimento de Grandes Quantidades de Dados: Desempenham melhor com conjuntos de dados extensos.\n",
        "- Complexidade Computacional e de Implementação: Podem ser difíceis de treinar e ajustar.\n",
        "- Propensão a Overfitting: Necessitam de técnicas de regularização para evitar o ajuste excessivo."
      ],
      "metadata": {
        "id": "vcxqf5Bi7af-"
      }
    },
    {
      "cell_type": "code",
      "source": [
        "\n",
        "# 3. Artificial Neural Networks (ANN) - MLPClassifier\n",
        "mlp = MLPClassifier(hidden_layer_sizes=(100,), max_iter=1000, random_state=42)\n",
        "train_evaluate_sklearn_model(mlp, \"Artificial Neural Network (ANN) - MLPClassifier\", X_train_scaled, X_test_scaled, y_train, y_test)\n",
        "\n",
        "\n",
        "\n"
      ],
      "metadata": {
        "colab": {
          "base_uri": "https://localhost:8080/"
        },
        "id": "8d5FXxpC8ACP",
        "outputId": "f1352780-823f-48ad-9dc6-6405fe76216d"
      },
      "execution_count": 5,
      "outputs": [
        {
          "output_type": "stream",
          "name": "stdout",
          "text": [
            "### Artificial Neural Network (ANN) - MLPClassifier\n",
            "Acurácia: 0.9824561403508771\n",
            "              precision    recall  f1-score   support\n",
            "\n",
            "           0       0.98      0.97      0.98        63\n",
            "           1       0.98      0.99      0.99       108\n",
            "\n",
            "    accuracy                           0.98       171\n",
            "   macro avg       0.98      0.98      0.98       171\n",
            "weighted avg       0.98      0.98      0.98       171\n",
            "\n"
          ]
        }
      ]
    },
    {
      "cell_type": "markdown",
      "source": [
        "##**Long Short-Term Memory (LSTM)**\n",
        "**Funcionamento**\n",
        "As Long Short-Term Memory (LSTM) são um tipo de Recurrent Neural Network (RNN) projetadas para capturar dependências de longo prazo em dados sequenciais. As LSTMs possuem células de memória que controlam o fluxo de informações através de portas (entrada, esquecimento e saída), permitindo que a rede mantenha informações relevantes por longos períodos.\n",
        "\n",
        "**Pontos Fortes**\n",
        "- Capacidade de Capturar Dependências de Longo Prazo: Adequadas para dados sequenciais onde a ordem e o contexto são importantes.\n",
        "- Redução do Problema de Desvanecimento do Gradiente: As estruturas de portas ajudam a preservar informações relevantes durante o treinamento.\n",
        "- Flexibilidade em Diferentes Tarefas Sequenciais: Utilizadas em tradução automática, reconhecimento de fala, análise de séries temporais, entre outros.\n",
        "\n",
        "**Pontos Fracos**\n",
        "- Complexidade e Tempo de Treinamento: Mais complexas e demoradas para treinar comparadas a RNNs simples.\n",
        "- Requerimentos de Dados e Computação: Necessitam de grandes quantidades de dados e poder computacional.\n",
        "- Desafios de Implementação: Mais difíceis de configurar e ajustar corretamente.\n"
      ],
      "metadata": {
        "id": "YrZ_g3Sx7eGI"
      }
    },
    {
      "cell_type": "code",
      "source": [
        "# 7. Long Short-Term Memory (LSTM) - Aplicado para Ilustração\n",
        "# Adaptando os dados para LSTM (necessita de sequências)\n",
        "# Como os dados são tabulares, vamos tratar cada feature como uma \"sequência\" de comprimento 1\n",
        "\n",
        "from keras.models import Sequential\n",
        "from keras.layers import LSTM, Dense, Input\n",
        "from sklearn.metrics import accuracy_score, classification_report, confusion_matrix, precision_score, recall_score, f1_score, roc_auc_score\n",
        "\n",
        "# Adaptando os dados para LSTM (necessita de sequências)\n",
        "# Como os dados são tabulares, tratamos cada feature como uma \"sequência\" de comprimento 1\n",
        "X_train_lstm = X_train_scaled.reshape((X_train_scaled.shape[0], 1, X_train_scaled.shape[1]))\n",
        "X_test_lstm = X_test_scaled.reshape((X_test_scaled.shape[0], 1, X_test_scaled.shape[1]))\n",
        "\n",
        "# Definindo o modelo LSTM\n",
        "lstm_model = Sequential()\n",
        "lstm_model.add(Input(shape=(X_train_lstm.shape[1], X_train_lstm.shape[2])))\n",
        "lstm_model.add(LSTM(32))\n",
        "lstm_model.add(Dense(2, activation='softmax'))\n",
        "\n",
        "lstm_model.compile(optimizer='adam', loss='categorical_crossentropy', metrics=['accuracy'])\n",
        "\n",
        "# Treinando o modelo LSTM\n",
        "lstm_model.fit(X_train_lstm, y_train_cat, epochs=50, batch_size=16, verbose=0)\n",
        "\n",
        "# Avaliando o modelo LSTM\n",
        "lstm_loss, lstm_accuracy = lstm_model.evaluate(X_test_lstm, y_test_cat, verbose=0)\n",
        "print(\"\\n### Long Short-Term Memory (LSTM)\")\n",
        "print(\"Acurácia:\", lstm_accuracy)\n",
        "\n",
        "# Fazendo previsões\n",
        "y_pred_lstm = lstm_model.predict(X_test_lstm)\n",
        "y_pred_lstm_classes = y_pred_lstm.argmax(axis=1)\n",
        "y_test_cat_classes = y_test_cat.argmax(axis=1)\n",
        "\n",
        "# Avaliadores do scikit-learn\n",
        "print(\"\\n### Avaliação com métricas adicionais\")\n",
        "print(\"Acurácia:\", accuracy_score(y_test_cat_classes, y_pred_lstm_classes))\n",
        "print(classification_report(y_test_cat_classes, y_pred_lstm_classes))\n",
        "\n",
        "# Matriz de Confusão\n",
        "print(\"Matriz de Confusão:\")\n",
        "print(confusion_matrix(y_test_cat_classes, y_pred_lstm_classes))\n",
        "\n",
        "# Precisão, Revocação e F1-Score\n",
        "print(\"Precisão:\", precision_score(y_test_cat_classes, y_pred_lstm_classes, average='weighted'))\n",
        "print(\"Revocação:\", recall_score(y_test_cat_classes, y_pred_lstm_classes, average='weighted'))\n",
        "print(\"F1-Score:\", f1_score(y_test_cat_classes, y_pred_lstm_classes, average='weighted'))\n",
        "\n",
        "# AUC-ROC (se aplicável)\n",
        "if lstm_model.output_shape[-1] == 2:  # Verifica se o modelo está em binário\n",
        "    y_pred_lstm_proba = lstm_model.predict(X_test_lstm)[:, 1]\n",
        "    print(\"AUC-ROC:\", roc_auc_score(y_test_cat_classes, y_pred_lstm_proba))\n"
      ],
      "metadata": {
        "colab": {
          "base_uri": "https://localhost:8080/"
        },
        "id": "gdt63kkw8gpX",
        "outputId": "9bef78f7-4a90-4012-c7db-2fdeae865c03"
      },
      "execution_count": 17,
      "outputs": [
        {
          "output_type": "stream",
          "name": "stdout",
          "text": [
            "\n",
            "### Long Short-Term Memory (LSTM)\n",
            "Acurácia: 0.9707602262496948\n",
            "\u001b[1m6/6\u001b[0m \u001b[32m━━━━━━━━━━━━━━━━━━━━\u001b[0m\u001b[37m\u001b[0m \u001b[1m0s\u001b[0m 32ms/step\n",
            "\n",
            "### Avaliação com métricas adicionais\n",
            "Acurácia: 0.9707602339181286\n",
            "              precision    recall  f1-score   support\n",
            "\n",
            "           0       0.95      0.97      0.96        63\n",
            "           1       0.98      0.97      0.98       108\n",
            "\n",
            "    accuracy                           0.97       171\n",
            "   macro avg       0.97      0.97      0.97       171\n",
            "weighted avg       0.97      0.97      0.97       171\n",
            "\n",
            "Matriz de Confusão:\n",
            "[[ 61   2]\n",
            " [  3 105]]\n",
            "Precisão: 0.9709250491883916\n",
            "Revocação: 0.9707602339181286\n",
            "F1-Score: 0.970807351651423\n",
            "\u001b[1m6/6\u001b[0m \u001b[32m━━━━━━━━━━━━━━━━━━━━\u001b[0m\u001b[37m\u001b[0m \u001b[1m0s\u001b[0m 2ms/step \n",
            "AUC-ROC: 0.9963256907701352\n"
          ]
        }
      ]
    },
    {
      "cell_type": "markdown",
      "source": [
        "##**Convolutional Neural Networks (CNN)**\n",
        "**Funcionamento**\n",
        "As Convolutional Neural Networks (CNN) são uma classe de redes neurais projetadas para processar dados com uma grade topológica, como imagens. Utilizam camadas de convolução que aplicam filtros para extrair características espaciais locais, seguidas por camadas de pooling para reduzir a dimensionalidade e capturar características invariantes.\n",
        "\n",
        "**Pontos Fortes**\n",
        "- Excelentes para Processamento de Imagens e Dados Espaciais: Capturam eficientemente padrões locais e hierarquias de características.\n",
        "- Redução de Parâmetros: Uso de filtros compartilhados reduz o número de parâmetros em comparação com redes totalmente conectadas.\n",
        "- Capacidade de Generalização: Bom desempenho em tarefas de reconhecimento e classificação visual.\n",
        "\n",
        "**Pontos Fracos**\n",
        "- Desempenho Limitado em Dados Não-Espaciais: Menos eficaz para dados tabulares ou sequenciais.\n",
        "- Requerimentos de Dados e Computação: Necessitam de grandes quantidades de dados e recursos computacionais para treinar.\n",
        "- Complexidade de Arquitetura: Mais difíceis de projetar e ajustar corretamente para tarefas específicas."
      ],
      "metadata": {
        "id": "IgbLTypb7f8H"
      }
    },
    {
      "cell_type": "code",
      "source": [
        "# 8. Convolutional Neural Networks (CNN) - Aplicado para Ilustração\n",
        "\n",
        "\n",
        "from keras.models import Sequential\n",
        "from keras.layers import Conv2D, Flatten, Dense\n",
        "from sklearn.metrics import accuracy_score, classification_report, confusion_matrix, precision_score, recall_score, f1_score, roc_auc_score\n",
        "\n",
        "# Adaptando os dados para CNN (necessita de dados com dimensão espacial)\n",
        "# Vamos tratar as features como uma \"imagem\" de 1 canal e altura 1\n",
        "X_train_cnn = X_train_scaled.reshape((X_train_scaled.shape[0], 1, X_train_scaled.shape[1], 1))\n",
        "X_test_cnn = X_test_scaled.reshape((X_test_scaled.shape[0], 1, X_test_scaled.shape[1], 1))\n",
        "\n",
        "# Definindo o modelo CNN\n",
        "cnn_model = Sequential()\n",
        "cnn_model.add(Conv2D(32, kernel_size=(1, 2), activation='relu', input_shape=(1, X_train_cnn.shape[2], 1)))\n",
        "cnn_model.add(Flatten())\n",
        "cnn_model.add(Dense(16, activation='relu'))\n",
        "cnn_model.add(Dense(2, activation='softmax'))\n",
        "\n",
        "cnn_model.compile(optimizer='adam', loss='categorical_crossentropy', metrics=['accuracy'])\n",
        "\n",
        "# Treinando o modelo CNN\n",
        "cnn_model.fit(X_train_cnn, y_train_cat, epochs=50, batch_size=16, verbose=0)\n",
        "\n",
        "# Avaliando o modelo CNN\n",
        "cnn_loss, cnn_accuracy = cnn_model.evaluate(X_test_cnn, y_test_cat, verbose=0)\n",
        "print(\"\\n### Convolutional Neural Network (CNN)\")\n",
        "print(\"Acurácia:\", cnn_accuracy)\n",
        "\n",
        "# Fazendo previsões\n",
        "y_pred_cnn = cnn_model.predict(X_test_cnn)\n",
        "y_pred_cnn_classes = y_pred_cnn.argmax(axis=1)\n",
        "y_test_cat_classes = y_test_cat.argmax(axis=1)\n",
        "\n",
        "# Avaliadores do scikit-learn\n",
        "print(\"\\n### Avaliação com métricas adicionais\")\n",
        "print(\"Acurácia:\", accuracy_score(y_test_cat_classes, y_pred_cnn_classes))\n",
        "print(classification_report(y_test_cat_classes, y_pred_cnn_classes))\n",
        "\n",
        "# Matriz de Confusão\n",
        "print(\"Matriz de Confusão:\")\n",
        "print(confusion_matrix(y_test_cat_classes, y_pred_cnn_classes))\n",
        "\n",
        "# Precisão, Revocação e F1-Score\n",
        "print(\"Precisão:\", precision_score(y_test_cat_classes, y_pred_cnn_classes, average='weighted'))\n",
        "print(\"Revocação:\", recall_score(y_test_cat_classes, y_pred_cnn_classes, average='weighted'))\n",
        "print(\"F1-Score:\", f1_score(y_test_cat_classes, y_pred_cnn_classes, average='weighted'))\n",
        "\n",
        "# AUC-ROC (se aplicável)\n",
        "if cnn_model.output_shape[-1] == 2:  # Verifica se o modelo está em binário\n",
        "    y_pred_cnn_proba = cnn_model.predict(X_test_cnn)[:, 1]\n",
        "    print(\"AUC-ROC:\", roc_auc_score(y_test_cat_classes, y_pred_cnn_proba))\n",
        "\n"
      ],
      "metadata": {
        "colab": {
          "base_uri": "https://localhost:8080/"
        },
        "id": "Sy3oezVC9Jz_",
        "outputId": "f3137805-1ba5-4e51-925b-fdeb6a792390"
      },
      "execution_count": 18,
      "outputs": [
        {
          "output_type": "stream",
          "name": "stderr",
          "text": [
            "/usr/local/lib/python3.10/dist-packages/keras/src/layers/convolutional/base_conv.py:107: UserWarning: Do not pass an `input_shape`/`input_dim` argument to a layer. When using Sequential models, prefer using an `Input(shape)` object as the first layer in the model instead.\n",
            "  super().__init__(activity_regularizer=activity_regularizer, **kwargs)\n"
          ]
        },
        {
          "output_type": "stream",
          "name": "stdout",
          "text": [
            "\n",
            "### Convolutional Neural Network (CNN)\n",
            "Acurácia: 0.9649122953414917\n",
            "\u001b[1m6/6\u001b[0m \u001b[32m━━━━━━━━━━━━━━━━━━━━\u001b[0m\u001b[37m\u001b[0m \u001b[1m0s\u001b[0m 10ms/step\n",
            "\n",
            "### Avaliação com métricas adicionais\n",
            "Acurácia: 0.9649122807017544\n",
            "              precision    recall  f1-score   support\n",
            "\n",
            "           0       0.94      0.97      0.95        63\n",
            "           1       0.98      0.96      0.97       108\n",
            "\n",
            "    accuracy                           0.96       171\n",
            "   macro avg       0.96      0.97      0.96       171\n",
            "weighted avg       0.97      0.96      0.97       171\n",
            "\n",
            "Matriz de Confusão:\n",
            "[[ 61   2]\n",
            " [  4 104]]\n",
            "Precisão: 0.9654113513100604\n",
            "Revocação: 0.9649122807017544\n",
            "F1-Score: 0.9650224422036399\n",
            "\u001b[1m6/6\u001b[0m \u001b[32m━━━━━━━━━━━━━━━━━━━━\u001b[0m\u001b[37m\u001b[0m \u001b[1m0s\u001b[0m 2ms/step \n",
            "AUC-ROC: 0.995296884185773\n"
          ]
        }
      ]
    },
    {
      "cell_type": "markdown",
      "source": [
        "##**Recurrent Neural Networks (RNN)**\n",
        "**Funcionamento**\n",
        "As Recurrent Neural Networks (RNN) são redes neurais projetadas para processar sequências de dados, onde as conexões recorrentes permitem que informações de passos anteriores influenciem os atuais. São adequadas para tarefas que envolvem sequências temporais, como previsão de séries temporais, tradução de idiomas e reconhecimento de fala.\n",
        "\n",
        "**Pontos Fortes**\n",
        "- Capacidade de Processar Dados Sequenciais: Adequadas para tarefas onde a ordem e o contexto são importantes.\n",
        "- Modelagem de Dependências Temporais: Capturam relações de dependência ao longo do tempo.\n",
        "- Flexibilidade em Diferentes Tarefas Sequenciais: Utilizadas em tradução automática, análise de séries temporais, entre outros.\n",
        "\n",
        "**Pontos Fracos**\n",
        "- Problemas de Desvanecimento e Explosão do Gradiente: Dificuldades em capturar dependências de longo prazo.\n",
        "- Desempenho Inferior em Comparação com LSTM/GRU: Menos eficazes em tarefas que requerem captura de dependências de longo prazo.\n",
        "- Requerimentos de Tempo de Treinamento: Mais lentas para treinar devido às dependências sequenciais."
      ],
      "metadata": {
        "id": "LP84Tc-i7hsx"
      }
    },
    {
      "cell_type": "code",
      "source": [
        "# 9. Recurrent Neural Networks (RNN) - Aplicado para Ilustração\n",
        "\n",
        "from keras.models import Sequential\n",
        "from keras.layers import SimpleRNN, Dense\n",
        "from sklearn.metrics import accuracy_score, classification_report, confusion_matrix, precision_score, recall_score, f1_score, roc_auc_score\n",
        "\n",
        "# Definindo o modelo RNN\n",
        "rnn_model = Sequential()\n",
        "rnn_model.add(SimpleRNN(32, input_shape=(X_train_lstm.shape[1], X_train_lstm.shape[2])))\n",
        "rnn_model.add(Dense(2, activation='softmax'))\n",
        "\n",
        "rnn_model.compile(optimizer='adam', loss='categorical_crossentropy', metrics=['accuracy'])\n",
        "\n",
        "# Treinando o modelo RNN\n",
        "rnn_model.fit(X_train_lstm, y_train_cat, epochs=50, batch_size=16, verbose=0)\n",
        "\n",
        "# Avaliando o modelo RNN\n",
        "rnn_loss, rnn_accuracy = rnn_model.evaluate(X_test_lstm, y_test_cat, verbose=0)\n",
        "print(\"\\n### Recurrent Neural Network (RNN)\")\n",
        "print(\"Acurácia:\", rnn_accuracy)\n",
        "\n",
        "# Fazendo previsões\n",
        "y_pred_rnn = rnn_model.predict(X_test_lstm)\n",
        "y_pred_rnn_classes = y_pred_rnn.argmax(axis=1)\n",
        "y_test_cat_classes = y_test_cat.argmax(axis=1)\n",
        "\n",
        "# Avaliadores do scikit-learn\n",
        "print(\"\\n### Avaliação com métricas adicionais\")\n",
        "print(\"Acurácia:\", accuracy_score(y_test_cat_classes, y_pred_rnn_classes))\n",
        "print(classification_report(y_test_cat_classes, y_pred_rnn_classes))\n",
        "\n",
        "# Matriz de Confusão\n",
        "print(\"Matriz de Confusão:\")\n",
        "print(confusion_matrix(y_test_cat_classes, y_pred_rnn_classes))\n",
        "\n",
        "# Precisão, Revocação e F1-Score\n",
        "print(\"Precisão:\", precision_score(y_test_cat_classes, y_pred_rnn_classes, average='weighted'))\n",
        "print(\"Revocação:\", recall_score(y_test_cat_classes, y_pred_rnn_classes, average='weighted'))\n",
        "print(\"F1-Score:\", f1_score(y_test_cat_classes, y_pred_rnn_classes, average='weighted'))\n",
        "\n",
        "# AUC-ROC (se aplicável)\n",
        "if rnn_model.output_shape[-1] == 2:  # Verifica se o modelo está em binário\n",
        "    y_pred_rnn_proba = rnn_model.predict(X_test_lstm)[:, 1]\n",
        "    print(\"AUC-ROC:\", roc_auc_score(y_test_cat_classes, y_pred_rnn_proba))\n"
      ],
      "metadata": {
        "colab": {
          "base_uri": "https://localhost:8080/"
        },
        "id": "U5gge1ZM9gCY",
        "outputId": "4b245baa-23d4-45fd-f391-df980b646d32"
      },
      "execution_count": 19,
      "outputs": [
        {
          "output_type": "stream",
          "name": "stderr",
          "text": [
            "/usr/local/lib/python3.10/dist-packages/keras/src/layers/rnn/rnn.py:204: UserWarning: Do not pass an `input_shape`/`input_dim` argument to a layer. When using Sequential models, prefer using an `Input(shape)` object as the first layer in the model instead.\n",
            "  super().__init__(**kwargs)\n"
          ]
        },
        {
          "output_type": "stream",
          "name": "stdout",
          "text": [
            "\n",
            "### Recurrent Neural Network (RNN)\n",
            "Acurácia: 0.9824561476707458\n",
            "\u001b[1m6/6\u001b[0m \u001b[32m━━━━━━━━━━━━━━━━━━━━\u001b[0m\u001b[37m\u001b[0m \u001b[1m0s\u001b[0m 47ms/step\n",
            "\n",
            "### Avaliação com métricas adicionais\n",
            "Acurácia: 0.9824561403508771\n",
            "              precision    recall  f1-score   support\n",
            "\n",
            "           0       0.97      0.98      0.98        63\n",
            "           1       0.99      0.98      0.99       108\n",
            "\n",
            "    accuracy                           0.98       171\n",
            "   macro avg       0.98      0.98      0.98       171\n",
            "weighted avg       0.98      0.98      0.98       171\n",
            "\n",
            "Matriz de Confusão:\n",
            "[[ 62   1]\n",
            " [  2 106]]\n",
            "Precisão: 0.9825842351205116\n",
            "Revocação: 0.9824561403508771\n",
            "F1-Score: 0.9824844109908538\n",
            "\u001b[1m6/6\u001b[0m \u001b[32m━━━━━━━━━━━━━━━━━━━━\u001b[0m\u001b[37m\u001b[0m \u001b[1m0s\u001b[0m 4ms/step \n",
            "AUC-ROC: 0.996766607877719\n"
          ]
        }
      ]
    }
  ]
}